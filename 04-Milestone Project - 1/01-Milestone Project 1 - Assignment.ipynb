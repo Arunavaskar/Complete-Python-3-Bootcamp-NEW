{
 "cells": [
  {
   "cell_type": "markdown",
   "metadata": {},
   "source": [
    "# Milestone Project 1\n",
    "## Congratulations on making it to your first milestone!\n",
    "You've already learned a ton and are ready to work on a real project.\n",
    "\n",
    "Your assignment: Create a Tic Tac Toe game. You are free to use any IDE you like.\n",
    "\n",
    "Here are the requirements:\n",
    "\n",
    "* 2 players should be able to play the game (both sitting at the same computer)\n",
    "* The board should be printed out every time a player makes a move\n",
    "* You should be able to accept input of the player position and then place a symbol on the board\n",
    "\n",
    "Feel free to use Google to help you figure anything out (but don't just Google \"Tic Tac Toe in Python\" otherwise you won't learn anything!) Keep in mind that this project can take anywhere between several hours to several days.\n",
    "\n",
    "There are 4 Jupyter Notebooks related to this assignment:\n",
    "\n",
    "* This Assignment Notebook\n",
    "* A \"Walkthrough Steps Workbook\" Notebook\n",
    "* A \"Complete Walkthrough Solution\" Notebook\n",
    "* An \"Advanced Solution\" Notebook\n", 
    "\n",
    "I encourage you to just try to start the project on your own without referencing any of the notebooks. If you get stuck, check out the next lecture which is a text lecture with helpful hints and steps. If you're still stuck after that, then check out the Walkthrough Steps Workbook, which breaks up the project in steps for you to solve. Still stuck? Then check out the Complete Walkthrough Solution video for more help on approaching the project!"
   ]
  },
  {
   "cell_type": "code",
   "execution_count": 5,
   "metadata": {},
   "outputs": [
    {
     "name": "stdout",
     "output_type": "stream",
     "text": [
      "\n",
      "    1           |2           |3\n",
      "                |            |    \n",
      "                |            |\n",
      "    ------------|------------|------------\n",
      "    4           |5           |6\n",
      "                |            |    \n",
      "                |            |\n",
      "    ------------|------------|------------\n",
      "    7           |8           |9\n",
      "                |            |    \n",
      "                |            |\n",
      "\n",
      "    \n",
      "Enter the position you want, from 1 to 9: 7\n",
      "Enter the marker you want, X or O: o\n",
      "\n",
      "    1           |2           |3\n",
      "                |            |            \n",
      "                |            |\n",
      "    ------------|------------|------------\n",
      "    4           |5           |6\n",
      "                |            |            \n",
      "                |            |\n",
      "    ------------|------------|------------\n",
      "    7           |8           |9\n",
      "          o     |            |            \n",
      "                |            |\n",
      "\n",
      "    \n"
     ]
    }
   ],
   "source": [
    "def board():\n",
    "    print(f\"\"\"\n",
    "    1           |2           |3\n",
    "                |            |    \n",
    "                |            |\n",
    "    ------------|------------|------------\n",
    "    4           |5           |6\n",
    "                |            |    \n",
    "                |            |\n",
    "    ------------|------------|------------\n",
    "    7           |8           |9\n",
    "                |            |    \n",
    "                |            |\n",
    "\n",
    "    \"\"\")\n",
    "    position = int(input(\"Enter the position you want, from 1 to 9: \"))\n",
    "    marker = str(input(\"Enter the marker you want, X or O: \"))\n",
    "    \n",
    "    B = {1: \"a\",2: \"b\",3: \"c\",4: \"d\",5: \"e\",6: \"f\",7: \"g\",8: \"h\",9: \"i\"}\n",
    "    blank_B = {1: \"            \",2: \"            \",3: \"            \",4: \"            \",5: \"            \",6: \"            \",7: \"            \",8: \"            \",9: \"            \"}\n",
    "    for key, value in B.items():\n",
    "        if key == position:\n",
    "            blank_B[key] = \"      \"+marker+\"     \"\n",
    "        #else:\n",
    "            #print (\"wrong\")\n",
    "    print(f\"\"\"\n",
    "    1           |2           |3\n",
    "    {blank_B[1]}|{blank_B[2]}|{blank_B[3]}\n",
    "                |            |\n",
    "    ------------|------------|------------\n",
    "    4           |5           |6\n",
    "    {blank_B[4]}|{blank_B[5]}|{blank_B[6]}\n",
    "                |            |\n",
    "    ------------|------------|------------\n",
    "    7           |8           |9\n",
    "    {blank_B[7]}|{blank_B[8]}|{blank_B[9]}\n",
    "                |            |\n",
    "\n",
    "    \"\"\")\n",
    "board()            "
   ]
  },
  {
   "cell_type": "code",
   "execution_count": null,
   "metadata": {},
   "outputs": [],
   "source": []
  },
  {
   "cell_type": "markdown",
   "metadata": {},
   "source": [
    "There are parts of this that will be a struggle...and that is good! I have complete faith that if you have made it this far through the course you have all the tools and knowledge to tackle this project. Remember, it's totally open book, so take your time, do a little research, and remember:\n",
    "\n",
    "## HAVE FUN!"
   ]
  }
 ],
 "metadata": {
  "kernelspec": {
   "display_name": "Python 3",
   "language": "python",
   "name": "python3"
  },
  "language_info": {
   "codemirror_mode": {
    "name": "ipython",
    "version": 3
   },
   "file_extension": ".py",
   "mimetype": "text/x-python",
   "name": "python",
   "nbconvert_exporter": "python",
   "pygments_lexer": "ipython3",
   "version": "3.6.5"
  }
 },
 "nbformat": 4,
 "nbformat_minor": 1
}
